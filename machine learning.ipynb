{
 "cells": [
  {
   "cell_type": "code",
   "execution_count": 1,
   "id": "9c002a37-5323-4976-bda3-ad0566b0ea3b",
   "metadata": {
    "tags": []
   },
   "outputs": [
    {
     "data": {
      "text/plain": [
       "7"
      ]
     },
     "execution_count": 1,
     "metadata": {},
     "output_type": "execute_result"
    }
   ],
   "source": [
    "3+4"
   ]
  },
  {
   "cell_type": "code",
   "execution_count": 2,
   "id": "d84a4534-c500-4dd5-8e5d-3ecddd409bc8",
   "metadata": {},
   "outputs": [
    {
     "name": "stdout",
     "output_type": "stream",
     "text": [
      "hellow machine learning\n"
     ]
    }
   ],
   "source": [
    "print(\"hellow machine learning\")"
   ]
  },
  {
   "cell_type": "code",
   "execution_count": 10,
   "id": "4aa04085-05d7-4646-9b12-34bca42a701e",
   "metadata": {
    "tags": []
   },
   "outputs": [
    {
     "name": "stdin",
     "output_type": "stream",
     "text": [
      "enter Machine learning Login details MonyaneM\n"
     ]
    },
    {
     "name": "stdout",
     "output_type": "stream",
     "text": [
      "incorrect details\n"
     ]
    }
   ],
   "source": [
    "user=input(\"enter Machine learning Login details\")\n",
    "user = \"MonyaneM\"\n",
    "if user != \"MonyaneM\":\n",
    "    print(\"enter correct details\")\n",
    "else:\n",
    "        print(\"incorrect details\")"
   ]
  },
  {
   "cell_type": "code",
   "execution_count": 14,
   "id": "02e9f6a5-d0b8-460f-aec5-4ae3f03d6411",
   "metadata": {
    "tags": []
   },
   "outputs": [],
   "source": [
    "import numpy as np\n",
    "import pandas as pd\n"
   ]
  },
  {
   "cell_type": "code",
   "execution_count": 20,
   "id": "a32e568b-a678-4bbf-b0a6-baf354e37d5a",
   "metadata": {
    "tags": []
   },
   "outputs": [
    {
     "data": {
      "text/html": [
       "<div>\n",
       "<style scoped>\n",
       "    .dataframe tbody tr th:only-of-type {\n",
       "        vertical-align: middle;\n",
       "    }\n",
       "\n",
       "    .dataframe tbody tr th {\n",
       "        vertical-align: top;\n",
       "    }\n",
       "\n",
       "    .dataframe thead th {\n",
       "        text-align: right;\n",
       "    }\n",
       "</style>\n",
       "<table border=\"1\" class=\"dataframe\">\n",
       "  <thead>\n",
       "    <tr style=\"text-align: right;\">\n",
       "      <th></th>\n",
       "      <th>0</th>\n",
       "      <th>1</th>\n",
       "      <th>2</th>\n",
       "      <th>3</th>\n",
       "      <th>4</th>\n",
       "      <th>5</th>\n",
       "      <th>6</th>\n",
       "      <th>7</th>\n",
       "      <th>8</th>\n",
       "      <th>9</th>\n",
       "      <th>...</th>\n",
       "      <th>40</th>\n",
       "      <th>41</th>\n",
       "      <th>42</th>\n",
       "      <th>43</th>\n",
       "      <th>44</th>\n",
       "      <th>45</th>\n",
       "      <th>46</th>\n",
       "      <th>47</th>\n",
       "      <th>48</th>\n",
       "      <th>49</th>\n",
       "    </tr>\n",
       "  </thead>\n",
       "  <tbody>\n",
       "    <tr>\n",
       "      <th>998</th>\n",
       "      <td>78</td>\n",
       "      <td>93</td>\n",
       "      <td>43</td>\n",
       "      <td>7</td>\n",
       "      <td>54</td>\n",
       "      <td>72</td>\n",
       "      <td>58</td>\n",
       "      <td>67</td>\n",
       "      <td>10</td>\n",
       "      <td>99</td>\n",
       "      <td>...</td>\n",
       "      <td>92</td>\n",
       "      <td>86</td>\n",
       "      <td>27</td>\n",
       "      <td>12</td>\n",
       "      <td>17</td>\n",
       "      <td>71</td>\n",
       "      <td>16</td>\n",
       "      <td>72</td>\n",
       "      <td>50</td>\n",
       "      <td>10</td>\n",
       "    </tr>\n",
       "    <tr>\n",
       "      <th>999</th>\n",
       "      <td>74</td>\n",
       "      <td>72</td>\n",
       "      <td>74</td>\n",
       "      <td>99</td>\n",
       "      <td>77</td>\n",
       "      <td>21</td>\n",
       "      <td>70</td>\n",
       "      <td>25</td>\n",
       "      <td>34</td>\n",
       "      <td>48</td>\n",
       "      <td>...</td>\n",
       "      <td>18</td>\n",
       "      <td>49</td>\n",
       "      <td>81</td>\n",
       "      <td>4</td>\n",
       "      <td>90</td>\n",
       "      <td>4</td>\n",
       "      <td>36</td>\n",
       "      <td>88</td>\n",
       "      <td>95</td>\n",
       "      <td>60</td>\n",
       "    </tr>\n",
       "  </tbody>\n",
       "</table>\n",
       "<p>2 rows × 50 columns</p>\n",
       "</div>"
      ],
      "text/plain": [
       "     0   1   2   3   4   5   6   7   8   9   ...  40  41  42  43  44  45  46  \\\n",
       "998  78  93  43   7  54  72  58  67  10  99  ...  92  86  27  12  17  71  16   \n",
       "999  74  72  74  99  77  21  70  25  34  48  ...  18  49  81   4  90   4  36   \n",
       "\n",
       "     47  48  49  \n",
       "998  72  50  10  \n",
       "999  88  95  60  \n",
       "\n",
       "[2 rows x 50 columns]"
      ]
     },
     "execution_count": 20,
     "metadata": {},
     "output_type": "execute_result"
    }
   ],
   "source": [
    "data=np.random.randint(0,100,[1000,50])\n",
    "pf=pd.DataFrame(data)\n",
    "pf.tail(2)"
   ]
  },
  {
   "cell_type": "code",
   "execution_count": 1,
   "id": "1a355dcd-d759-41cc-b12e-8f8940572035",
   "metadata": {},
   "outputs": [
    {
     "data": {
      "text/plain": [
       "'C:\\\\Users\\\\moloe'"
      ]
     },
     "execution_count": 1,
     "metadata": {},
     "output_type": "execute_result"
    }
   ],
   "source": [
    "pwd"
   ]
  },
  {
   "cell_type": "code",
   "execution_count": null,
   "id": "a7639064-1553-436e-b36b-010c724e89ab",
   "metadata": {},
   "outputs": [],
   "source": []
  }
 ],
 "metadata": {
  "kernelspec": {
   "display_name": "Python 3 (ipykernel)",
   "language": "python",
   "name": "python3"
  },
  "language_info": {
   "codemirror_mode": {
    "name": "ipython",
    "version": 3
   },
   "file_extension": ".py",
   "mimetype": "text/x-python",
   "name": "python",
   "nbconvert_exporter": "python",
   "pygments_lexer": "ipython3",
   "version": "3.11.5"
  }
 },
 "nbformat": 4,
 "nbformat_minor": 5
}
